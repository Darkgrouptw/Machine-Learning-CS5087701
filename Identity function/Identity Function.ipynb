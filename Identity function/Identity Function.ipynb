{
 "cells": [
  {
   "cell_type": "markdown",
   "metadata": {},
   "source": [
    "# 單位 Function\n",
    "---\n",
    "![單位 Function](./imgs/Identity Function.png)\n",
    "根據輸入的位置  \n",
    "用 Hidden unit 壓縮成數字編碼  \n",
    "在輸出"
   ]
  },
  {
   "cell_type": "markdown",
   "metadata": {},
   "source": [
    "# Import lib\n",
    "---"
   ]
  },
  {
   "cell_type": "code",
   "execution_count": 1,
   "metadata": {},
   "outputs": [],
   "source": [
    "import tensorflow as tf\n",
    "import numpy as np\n",
    "import random"
   ]
  },
  {
   "cell_type": "markdown",
   "metadata": {},
   "source": [
    "# 建構網路\n",
    "---"
   ]
  },
  {
   "cell_type": "code",
   "execution_count": 2,
   "metadata": {},
   "outputs": [],
   "source": [
    "# 要輸入幾個\n",
    "vectorSize = 8\n",
    "\n",
    "# 壓縮二進制\n",
    "hiddenUnits = 2"
   ]
  },
  {
   "cell_type": "code",
   "execution_count": 3,
   "metadata": {},
   "outputs": [],
   "source": [
    "# 輸入\n",
    "inputValue = tf.placeholder(\n",
    "    tf.float32,\n",
    "    [None, vectorSize],\n",
    "    name=\"InputValue\"\n",
    ")\n",
    "\n",
    "# label 後的值\n",
    "labelValue = tf.placeholder(\n",
    "    tf.float32,\n",
    "    [None, vectorSize],\n",
    "    name=\"LabelValue\"\n",
    ")"
   ]
  },
  {
   "cell_type": "code",
   "execution_count": 4,
   "metadata": {},
   "outputs": [],
   "source": [
    "weightInit = tf.random_normal_initializer(mean=0, stddev=0.3)\n",
    "biasInit = tf.random_normal_initializer(mean=0, stddev=0.1)"
   ]
  },
  {
   "cell_type": "code",
   "execution_count": 5,
   "metadata": {},
   "outputs": [],
   "source": [
    "hiddenlayer = tf.layers.dense(\n",
    "    inputs=inputValue,\n",
    "    units=hiddenUnits,\n",
    "    activation=tf.nn.sigmoid,\n",
    "    kernel_initializer=weightInit,\n",
    "    bias_initializer= biasInit,\n",
    "    name=\"HiddenLayer\"\n",
    ")\n",
    "\n",
    "output = tf.layers.dense(\n",
    "    inputs=hiddenlayer,\n",
    "    units=vectorSize,\n",
    "    kernel_initializer=weightInit,\n",
    "    bias_initializer=biasInit,\n",
    "    name=\"Output\"\n",
    ")\n",
    "\n",
    "outputProb = tf.nn.softmax(output, name=\"OutputProb\")\n",
    "\n",
    "predValue = tf.argmax(outputProb, axis=1)"
   ]
  },
  {
   "cell_type": "code",
   "execution_count": 6,
   "metadata": {},
   "outputs": [],
   "source": [
    "with tf.name_scope(\"Trainning\"):\n",
    "    loss = tf.nn.softmax_cross_entropy_with_logits(logits=output, labels=labelValue)\n",
    "    lossMean = tf.reduce_mean(loss)\n",
    "    \n",
    "    optimizer = tf.train.AdamOptimizer(learning_rate=1e-1).minimize(lossMean)"
   ]
  },
  {
   "cell_type": "code",
   "execution_count": 7,
   "metadata": {},
   "outputs": [],
   "source": [
    "session = tf.Session()\n",
    "session.run(tf.global_variables_initializer())"
   ]
  },
  {
   "cell_type": "code",
   "execution_count": 8,
   "metadata": {},
   "outputs": [],
   "source": [
    "# logFile = tf.summary.FileWriter(\"./logs\")\n",
    "# logFile.add_graph(session.graph)"
   ]
  },
  {
   "cell_type": "markdown",
   "metadata": {},
   "source": [
    "## 建 Training Data\n",
    "---"
   ]
  },
  {
   "cell_type": "code",
   "execution_count": 9,
   "metadata": {},
   "outputs": [],
   "source": [
    "# 所有可能的 DataSet\n",
    "dataset = [\n",
    "    [1, 0, 0, 0, 0, 0, 0, 0],\n",
    "    [0, 1, 0, 0, 0, 0, 0, 0],\n",
    "    [0, 0, 1, 0, 0, 0, 0, 0],\n",
    "    [0, 0, 0, 1, 0, 0, 0, 0],\n",
    "    [0, 0, 0, 0, 1, 0, 0, 0],\n",
    "    [0, 0, 0, 0, 0, 1, 0, 0],\n",
    "    [0, 0, 0, 0, 0, 0, 1, 0],\n",
    "    [0, 0, 0, 0, 0, 0, 0, 1]\n",
    "            ]"
   ]
  },
  {
   "cell_type": "code",
   "execution_count": 10,
   "metadata": {},
   "outputs": [],
   "source": [
    "# 測試資料的筆數\n",
    "trainNum = 10000"
   ]
  },
  {
   "cell_type": "code",
   "execution_count": 11,
   "metadata": {},
   "outputs": [],
   "source": [
    "# 產生 DataIndex & 產生 Train Set (trainNum)\n",
    "trainSet = []\n",
    "for i in range(0, trainNum):\n",
    "    chooseIndex = random.randint(0, len(dataset) - 1)\n",
    "    \n",
    "    # 將資料\n",
    "    trainSet.append(dataset[chooseIndex])"
   ]
  },
  {
   "cell_type": "markdown",
   "metadata": {},
   "source": [
    "## Session 建構並開始學習\n",
    "---"
   ]
  },
  {
   "cell_type": "code",
   "execution_count": 12,
   "metadata": {},
   "outputs": [],
   "source": [
    "def printPred():\n",
    "    for i in range(0, vectorSize):\n",
    "        vInput = np.argmax(dataset[i])\n",
    "        vHidden = session.run(hiddenlayer, feed_dict={inputValue: [dataset[i]]})\n",
    "        vOutput = session.run(predValue, feed_dict={inputValue: [dataset[i]]})[0]\n",
    "        print(format(vInput) + \" => \" + format(vHidden) + \" => \" + format(vOutput))"
   ]
  },
  {
   "cell_type": "code",
   "execution_count": 13,
   "metadata": {},
   "outputs": [
    {
     "name": "stdout",
     "output_type": "stream",
     "text": [
      "0 => [[ 0.43426651  0.50617534]] => 4\n",
      "1 => [[ 0.58396679  0.42753848]] => 4\n",
      "2 => [[ 0.42673478  0.41185164]] => 4\n",
      "3 => [[ 0.45913541  0.38561335]] => 4\n",
      "4 => [[ 0.53627789  0.56031305]] => 4\n",
      "5 => [[ 0.52142668  0.47002977]] => 4\n",
      "6 => [[ 0.453217    0.46424437]] => 4\n",
      "7 => [[ 0.53325588  0.39084435]] => 4\n"
     ]
    }
   ],
   "source": [
    "printPred()"
   ]
  },
  {
   "cell_type": "code",
   "execution_count": 14,
   "metadata": {},
   "outputs": [],
   "source": [
    "for i in range(0, trainNum, 10):\n",
    "    feedDict = {inputValue: trainSet[i: i+10], labelValue: trainSet[i: i+10]}\n",
    "    session.run(optimizer, feed_dict=feedDict)"
   ]
  },
  {
   "cell_type": "markdown",
   "metadata": {},
   "source": [
    "## 看結果確率\n",
    "---"
   ]
  },
  {
   "cell_type": "code",
   "execution_count": 15,
   "metadata": {
    "scrolled": false
   },
   "outputs": [
    {
     "name": "stdout",
     "output_type": "stream",
     "text": [
      "0 => [[  9.99256790e-01   4.43048863e-04]] => 0\n",
      "1 => [[ 0.15175976  0.99877149]] => 1\n",
      "2 => [[ 0.00013926  0.00047852]] => 2\n",
      "3 => [[  3.59210968e-01   1.50915250e-04]] => 3\n",
      "4 => [[ 0.81105113  0.99975687]] => 4\n",
      "5 => [[ 0.99956769  0.43430796]] => 5\n",
      "6 => [[ 0.32883087  0.35754547]] => 6\n",
      "7 => [[  1.53849658e-04   4.39515918e-01]] => 7\n"
     ]
    }
   ],
   "source": [
    "printPred()"
   ]
  },
  {
   "cell_type": "markdown",
   "metadata": {},
   "source": [
    "# 結論\n",
    "---\n",
    "這個問題可能藉由更低的數字來逼近解  \n",
    "因為在 hidden layer 的值  \n",
    "可能也會成為分類的根據"
   ]
  }
 ],
 "metadata": {
  "kernelspec": {
   "display_name": "Python 3",
   "language": "python",
   "name": "python3"
  },
  "language_info": {
   "codemirror_mode": {
    "name": "ipython",
    "version": 3
   },
   "file_extension": ".py",
   "mimetype": "text/x-python",
   "name": "python",
   "nbconvert_exporter": "python",
   "pygments_lexer": "ipython3",
   "version": "3.6.3"
  }
 },
 "nbformat": 4,
 "nbformat_minor": 2
}
