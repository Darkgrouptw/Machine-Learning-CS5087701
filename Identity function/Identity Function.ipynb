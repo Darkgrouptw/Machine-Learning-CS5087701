{
 "cells": [
  {
   "cell_type": "markdown",
   "metadata": {},
   "source": [
    "# 單位 Function\n",
    "---\n",
    "![單位 Function](https://raw.githubusercontent.com/Darkgrouptw/Machine-Learning-CS5087701/master/Identity%20function/imgs/Identity%20Function.png)\n",
    "根據輸入的位置  \n",
    "用 Hidden unit 壓縮成數字編碼  \n",
    "在輸出"
   ]
  },
  {
   "cell_type": "markdown",
   "metadata": {},
   "source": [
    "# Import lib\n",
    "---"
   ]
  },
  {
   "cell_type": "code",
   "execution_count": 1,
   "metadata": {},
   "outputs": [],
   "source": [
    "import tensorflow as tf\n",
    "import numpy as np\n",
    "import random"
   ]
  },
  {
   "cell_type": "markdown",
   "metadata": {},
   "source": [
    "# 建構網路\n",
    "---"
   ]
  },
  {
   "cell_type": "code",
   "execution_count": 2,
   "metadata": {},
   "outputs": [],
   "source": [
    "# 要輸入幾個\n",
    "vectorSize = 8\n",
    "\n",
    "# 壓縮二進制\n",
    "hiddenUnits = 2"
   ]
  },
  {
   "cell_type": "code",
   "execution_count": 3,
   "metadata": {},
   "outputs": [],
   "source": [
    "# 輸入\n",
    "inputValue = tf.placeholder(\n",
    "    tf.float32,\n",
    "    [None, vectorSize],\n",
    "    name=\"InputValue\"\n",
    ")\n",
    "\n",
    "# label 後的值\n",
    "labelValue = tf.placeholder(\n",
    "    tf.float32,\n",
    "    [None, vectorSize],\n",
    "    name=\"LabelValue\"\n",
    ")"
   ]
  },
  {
   "cell_type": "code",
   "execution_count": 4,
   "metadata": {},
   "outputs": [],
   "source": [
    "weightInit = tf.random_normal_initializer(mean=0, stddev=0.3)\n",
    "biasInit = tf.random_normal_initializer(mean=0, stddev=0.1)"
   ]
  },
  {
   "cell_type": "code",
   "execution_count": 5,
   "metadata": {},
   "outputs": [],
   "source": [
    "hiddenlayer = tf.layers.dense(\n",
    "    inputs=inputValue,\n",
    "    units=hiddenUnits,\n",
    "    activation=tf.nn.sigmoid,\n",
    "    kernel_initializer=weightInit,\n",
    "    bias_initializer= biasInit,\n",
    "    name=\"HiddenLayer\"\n",
    ")\n",
    "\n",
    "output = tf.layers.dense(\n",
    "    inputs=hiddenlayer,\n",
    "    units=vectorSize,\n",
    "    kernel_initializer=weightInit,\n",
    "    bias_initializer=biasInit,\n",
    "    name=\"Output\"\n",
    ")\n",
    "\n",
    "outputProb = tf.nn.softmax(output, name=\"OutputProb\")\n",
    "\n",
    "predValue = tf.argmax(outputProb, axis=1)"
   ]
  },
  {
   "cell_type": "code",
   "execution_count": 6,
   "metadata": {},
   "outputs": [],
   "source": [
    "with tf.name_scope(\"Trainning\"):\n",
    "    loss = tf.nn.softmax_cross_entropy_with_logits(logits=output, labels=labelValue)\n",
    "    lossMean = tf.reduce_mean(loss)\n",
    "    \n",
    "    optimizer = tf.train.AdamOptimizer(learning_rate=1e-1).minimize(lossMean)"
   ]
  },
  {
   "cell_type": "code",
   "execution_count": 7,
   "metadata": {},
   "outputs": [],
   "source": [
    "session = tf.Session()\n",
    "session.run(tf.global_variables_initializer())"
   ]
  },
  {
   "cell_type": "code",
   "execution_count": 8,
   "metadata": {},
   "outputs": [],
   "source": [
    "# logFile = tf.summary.FileWriter(\"./logs\")\n",
    "# logFile.add_graph(session.graph)"
   ]
  },
  {
   "cell_type": "markdown",
   "metadata": {},
   "source": [
    "## 建 Training Data\n",
    "---"
   ]
  },
  {
   "cell_type": "code",
   "execution_count": 9,
   "metadata": {},
   "outputs": [],
   "source": [
    "# 所有可能的 DataSet\n",
    "dataset = [\n",
    "    [1, 0, 0, 0, 0, 0, 0, 0],\n",
    "    [0, 1, 0, 0, 0, 0, 0, 0],\n",
    "    [0, 0, 1, 0, 0, 0, 0, 0],\n",
    "    [0, 0, 0, 1, 0, 0, 0, 0],\n",
    "    [0, 0, 0, 0, 1, 0, 0, 0],\n",
    "    [0, 0, 0, 0, 0, 1, 0, 0],\n",
    "    [0, 0, 0, 0, 0, 0, 1, 0],\n",
    "    [0, 0, 0, 0, 0, 0, 0, 1]\n",
    "            ]"
   ]
  },
  {
   "cell_type": "code",
   "execution_count": 10,
   "metadata": {},
   "outputs": [],
   "source": [
    "# 測試資料的筆數\n",
    "trainNum = 10000"
   ]
  },
  {
   "cell_type": "code",
   "execution_count": 11,
   "metadata": {},
   "outputs": [],
   "source": [
    "# 產生 DataIndex & 產生 Train Set (trainNum)\n",
    "trainSet = []\n",
    "for i in range(0, trainNum):\n",
    "    chooseIndex = random.randint(0, len(dataset) - 1)\n",
    "    \n",
    "    # 將資料\n",
    "    trainSet.append(dataset[chooseIndex])"
   ]
  },
  {
   "cell_type": "markdown",
   "metadata": {},
   "source": [
    "## Session 建構並開始學習\n",
    "---"
   ]
  },
  {
   "cell_type": "code",
   "execution_count": 12,
   "metadata": {},
   "outputs": [],
   "source": [
    "def printPred():\n",
    "    for i in range(0, vectorSize):\n",
    "        vInput = np.argmax(dataset[i])\n",
    "        vHidden = session.run(hiddenlayer, feed_dict={inputValue: [dataset[i]]})\n",
    "        vOutput = session.run(predValue, feed_dict={inputValue: [dataset[i]]})[0]\n",
    "        print(format(vInput) + \" => \" + format(vHidden) + \" => \" + format(vOutput))"
   ]
  },
  {
   "cell_type": "code",
   "execution_count": 13,
   "metadata": {},
   "outputs": [
    {
     "name": "stdout",
     "output_type": "stream",
     "text": [
      "0 => [[ 0.45042545  0.53688753]] => 5\n",
      "1 => [[ 0.6218695   0.68029255]] => 5\n",
      "2 => [[ 0.54299617  0.51187128]] => 5\n",
      "3 => [[ 0.4703379   0.54338121]] => 5\n",
      "4 => [[ 0.61967796  0.57213509]] => 5\n",
      "5 => [[ 0.54344714  0.4211821 ]] => 5\n",
      "6 => [[ 0.46185023  0.57694   ]] => 5\n",
      "7 => [[ 0.40699914  0.59104496]] => 5\n"
     ]
    }
   ],
   "source": [
    "printPred()"
   ]
  },
  {
   "cell_type": "code",
   "execution_count": 14,
   "metadata": {},
   "outputs": [],
   "source": [
    "for i in range(0, trainNum, 10):\n",
    "    feedDict = {inputValue: trainSet[i: i+10], labelValue: trainSet[i: i+10]}\n",
    "    session.run(optimizer, feed_dict=feedDict)"
   ]
  },
  {
   "cell_type": "markdown",
   "metadata": {},
   "source": [
    "## 看結果確率\n",
    "---"
   ]
  },
  {
   "cell_type": "code",
   "execution_count": 15,
   "metadata": {
    "scrolled": true
   },
   "outputs": [
    {
     "name": "stdout",
     "output_type": "stream",
     "text": [
      "0 => [[ 0.3927485   0.99909687]] => 0\n",
      "1 => [[  1.57824645e-04   9.99453843e-01]] => 1\n",
      "2 => [[ 0.3652977   0.00075005]] => 2\n",
      "3 => [[ 0.00037674  0.00016524]] => 3\n",
      "4 => [[ 0.99945778  0.41294545]] => 4\n",
      "5 => [[ 0.9987759  0.9994598]] => 5\n",
      "6 => [[  9.99606073e-01   2.38707318e-04]] => 6\n",
      "7 => [[ 0.03329074  0.34260309]] => 7\n"
     ]
    }
   ],
   "source": [
    "printPred()"
   ]
  },
  {
   "cell_type": "markdown",
   "metadata": {},
   "source": [
    "## 查看 Weight\n",
    "---"
   ]
  },
  {
   "cell_type": "code",
   "execution_count": 16,
   "metadata": {},
   "outputs": [
    {
     "name": "stdout",
     "output_type": "stream",
     "text": [
      "[[-0.85087222  6.89189339]\n",
      " [-9.16896725  7.39537096]\n",
      " [-0.96754205 -7.31139565]\n",
      " [-8.29867458 -8.8247509 ]\n",
      " [ 7.10410309 -0.46858165]\n",
      " [ 6.28924131  7.40621948]\n",
      " [ 7.42391014 -8.45681286]\n",
      " [-3.78371716 -0.76849473]]\n",
      "\n",
      "\n",
      "[ 0.4150987   0.11677945]\n"
     ]
    }
   ],
   "source": [
    "hiddenWeight = tf.get_default_graph().get_tensor_by_name(\"HiddenLayer/kernel:0\")\n",
    "hiddenBias = tf.get_default_graph().get_tensor_by_name(\"HiddenLayer/bias:0\")\n",
    "print(session.run(hiddenWeight))\n",
    "print(\"\\n\")\n",
    "print(session.run(hiddenBias))"
   ]
  },
  {
   "cell_type": "code",
   "execution_count": 17,
   "metadata": {},
   "outputs": [
    {
     "name": "stdout",
     "output_type": "stream",
     "text": [
      "[[ -6.15844965 -26.53968239  -1.52608299 -25.46878242   7.08772421\n",
      "    5.18017244  12.09982967 -17.59918785]\n",
      " [  7.30821276  11.96138954 -18.46502876 -25.97653961  -5.43988323\n",
      "    5.56522894 -23.837183    -1.22657943]]\n",
      "\n",
      "\n",
      "[[ -6.15844965 -26.53968239  -1.52608299 -25.46878242   7.08772421\n",
      "    5.18017244  12.09982967 -17.59918785]\n",
      " [  7.30821276  11.96138954 -18.46502876 -25.97653961  -5.43988323\n",
      "    5.56522894 -23.837183    -1.22657943]]\n"
     ]
    }
   ],
   "source": [
    "outputWeight = tf.get_default_graph().get_tensor_by_name(\"Output/kernel:0\")\n",
    "outputBias = tf.get_default_graph().get_tensor_by_name(\"Output/kernel:0\")\n",
    "print(session.run(outputWeight))\n",
    "print(\"\\n\")\n",
    "print(session.run(outputBias))"
   ]
  },
  {
   "cell_type": "markdown",
   "metadata": {},
   "source": [
    "# 結論\n",
    "---\n",
    "這個問題可能藉由更低的數字來逼近解  \n",
    "因為在 hidden layer 的值  \n",
    "可能也會成為分類的根據"
   ]
  }
 ],
 "metadata": {
  "kernelspec": {
   "display_name": "Python 3",
   "language": "python",
   "name": "python3"
  },
  "language_info": {
   "codemirror_mode": {
    "name": "ipython",
    "version": 3
   },
   "file_extension": ".py",
   "mimetype": "text/x-python",
   "name": "python",
   "nbconvert_exporter": "python",
   "pygments_lexer": "ipython3",
   "version": "3.6.3"
  }
 },
 "nbformat": 4,
 "nbformat_minor": 2
}
