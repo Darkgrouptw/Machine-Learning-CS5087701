{
 "cells": [
  {
   "cell_type": "markdown",
   "metadata": {},
   "source": [
    "# 使用 Neural Network 來預測\n",
    "---"
   ]
  },
  {
   "cell_type": "code",
   "execution_count": 19,
   "metadata": {},
   "outputs": [],
   "source": [
    "%matplotlib inline\n",
    "import matplotlib.pyplot as plt\n",
    "import tensorflow as tf\n",
    "import numpy as np"
   ]
  },
  {
   "cell_type": "code",
   "execution_count": 20,
   "metadata": {},
   "outputs": [],
   "source": [
    "# 銀行的檔案\n",
    "trainFile = open(\"./Data/bank-full.csv\",\"r\") \n",
    "testFile = open(\"./Data/bank.csv\",\"r\")\n",
    "\n",
    "# 吐掉第一行\n",
    "trainFile.readline()\n",
    "testFile.readline()\n",
    "\n",
    "\n",
    "# 資料\n",
    "trainOrgDataArray = []\n",
    "testOrgDataArray = []\n",
    "for line in trainFile:\n",
    "    lineData = line.split(\";\")\n",
    "    \n",
    "    tempArray = []\n",
    "    for data in lineData:\n",
    "        tempArray.append(data.replace(\"\\n\",\"\"))\n",
    "    trainOrgDataArray.append(tempArray)\n",
    "\n",
    "trainFile.close()\n",
    "testFile.close()"
   ]
  },
  {
   "cell_type": "markdown",
   "metadata": {},
   "source": [
    "## 資料愈處理的函數\n",
    "---"
   ]
  },
  {
   "cell_type": "code",
   "execution_count": 21,
   "metadata": {},
   "outputs": [],
   "source": [
    "def job(x):\n",
    "    return {\n",
    "        \"\\\"admin.\\\"\":         [1,0,0,0,0,0,0,0,0,0,0,0],\n",
    "        \"\\\"unknown\\\"\":        [0,1,0,0,0,0,0,0,0,0,0,0],\n",
    "        \"\\\"unemployed\\\"\":     [0,0,1,0,0,0,0,0,0,0,0,0],\n",
    "        \"\\\"management\\\"\":     [0,0,0,1,0,0,0,0,0,0,0,0],\n",
    "        \"\\\"housemaid\\\"\":      [0,0,0,0,1,0,0,0,0,0,0,0],\n",
    "        \"\\\"entrepreneur\\\"\":   [0,0,0,0,0,1,0,0,0,0,0,0],\n",
    "        \"\\\"student\\\"\":        [0,0,0,0,0,0,1,0,0,0,0,0],\n",
    "        \"\\\"blue-collar\\\"\":    [0,0,0,0,0,0,0,1,0,0,0,0],\n",
    "        \"\\\"self-employed\\\"\":  [0,0,0,0,0,0,0,0,1,0,0,0],\n",
    "        \"\\\"retired\\\"\":        [0,0,0,0,0,0,0,0,0,1,0,0],\n",
    "        \"\\\"technician\\\"\":     [0,0,0,0,0,0,0,0,0,0,1,0],\n",
    "        \"\\\"services\\\"\":       [0,0,0,0,0,0,0,0,0,0,0,1]\n",
    "    }.get(x,                  [1,0,0,0,0,0,0,0,0,0,0,0])"
   ]
  },
  {
   "cell_type": "code",
   "execution_count": 22,
   "metadata": {},
   "outputs": [],
   "source": [
    "def marital(x):\n",
    "    return {\n",
    "        \"\\\"married.\\\"\":       [1,0,0],\n",
    "        \"\\\"divorced\\\"\":       [0,1,0],\n",
    "        \"\\\"single\\\"\":         [0,0,1]\n",
    "    }.get(x,                  [1,0,0])"
   ]
  },
  {
   "cell_type": "code",
   "execution_count": 23,
   "metadata": {},
   "outputs": [],
   "source": [
    "def education(x):\n",
    "    return {\n",
    "        \"\\\"unknown\\\"\":        [1,0,0,0],\n",
    "        \"\\\"secondary\\\"\":      [0,1,0,0],\n",
    "        \"\\\"primary\\\"\":        [0,0,1,0],\n",
    "        \"\\\"tertiary\\\"\":       [0,0,0,1]\n",
    "    }.get(x,                  [1,0,0,0])"
   ]
  },
  {
   "cell_type": "code",
   "execution_count": 24,
   "metadata": {},
   "outputs": [],
   "source": [
    "def default(x):\n",
    "    return {\n",
    "        \"\\\"yes\\\"\":            [1,0],\n",
    "        \"\\\"no\\\"\":             [0,1]\n",
    "    }.get(x,                  [1,0])"
   ]
  },
  {
   "cell_type": "code",
   "execution_count": 25,
   "metadata": {},
   "outputs": [],
   "source": [
    "def housing(x):\n",
    "    return {\n",
    "        \"\\\"yes\\\"\":            [1,0],\n",
    "        \"\\\"no\\\"\":             [0,1]\n",
    "    }.get(x,                  [1,0])"
   ]
  },
  {
   "cell_type": "code",
   "execution_count": 26,
   "metadata": {},
   "outputs": [],
   "source": [
    "def loan(x):\n",
    "    return {\n",
    "        \"\\\"yes\\\"\":            [1,0],\n",
    "        \"\\\"no\\\"\":             [0,1]\n",
    "    }.get(x,                  [1,0])"
   ]
  },
  {
   "cell_type": "code",
   "execution_count": 27,
   "metadata": {},
   "outputs": [],
   "source": [
    "def contact(x):\n",
    "    return {\n",
    "        \"\\\"unknown\\\"\":        [1,0,0],\n",
    "        \"\\\"telephone\\\"\":      [0,1,0],\n",
    "        \"\\\"cellular\\\"\":       [0,0,1]\n",
    "    }.get(x,                  [1,0,0])"
   ]
  },
  {
   "cell_type": "code",
   "execution_count": 28,
   "metadata": {},
   "outputs": [],
   "source": [
    "def month(x):\n",
    "    return {\n",
    "        \"\\\"jan\\\"\":            [1,0,0,0,0,0,0,0,0,0,0,0],\n",
    "        \"\\\"feb\\\"\":            [0,1,0,0,0,0,0,0,0,0,0,0],\n",
    "        \"\\\"mar\\\"\":            [0,0,1,0,0,0,0,0,0,0,0,0],\n",
    "        \"\\\"apr\\\"\":            [0,0,0,1,0,0,0,0,0,0,0,0],\n",
    "        \"\\\"may\\\"\":            [0,0,0,0,1,0,0,0,0,0,0,0],\n",
    "        \"\\\"jun\\\"\":            [0,0,0,0,0,1,0,0,0,0,0,0],\n",
    "        \"\\\"jul\\\"\":            [0,0,0,0,0,0,1,0,0,0,0,0],\n",
    "        \"\\\"aug\\\"\":            [0,0,0,0,0,0,0,1,0,0,0,0],\n",
    "        \"\\\"sep\\\"\":            [0,0,0,0,0,0,0,0,1,0,0,0],\n",
    "        \"\\\"oct\\\"\":            [0,0,0,0,0,0,0,0,0,1,0,0],\n",
    "        \"\\\"nov\\\"\":            [0,0,0,0,0,0,0,0,0,0,1,0],\n",
    "        \"\\\"dec\\\"\":            [0,0,0,0,0,0,0,0,0,0,0,1]\n",
    "    }.get(x,                  [1,0,0,0,0,0,0,0,0,0,0,0])"
   ]
  },
  {
   "cell_type": "code",
   "execution_count": 29,
   "metadata": {},
   "outputs": [],
   "source": [
    "def poutcome(x):\n",
    "    return {\n",
    "        \"\\\"unknown\\\"\":        [1,0,0,0],\n",
    "        \"\\\"other\\\"\":          [0,1,0,0],\n",
    "        \"\\\"failure\\\"\":        [0,0,1,0],\n",
    "        \"\\\"success\\\"\":        [0,0,0,1]\n",
    "    }.get(x,                  [1,0,0,0])"
   ]
  },
  {
   "cell_type": "code",
   "execution_count": 30,
   "metadata": {},
   "outputs": [],
   "source": [
    "def termDeposit(x):\n",
    "    return {\n",
    "        \"\\\"yes\\\"\":            1,\n",
    "        \"\\\"no\\\"\":             0\n",
    "    }.get(x,                  1)"
   ]
  },
  {
   "cell_type": "markdown",
   "metadata": {},
   "source": [
    "## 轉乘資料形式\n",
    "---"
   ]
  },
  {
   "cell_type": "code",
   "execution_count": 40,
   "metadata": {},
   "outputs": [],
   "source": [
    "# 將某一筆資料，全部轉乘 Training 的資料形式\n",
    "def TransformDataToTraining(DataList):\n",
    "    OutputArray = []\n",
    "    \n",
    "    OutputArray.extend([int(DataList[0])])\n",
    "    OutputArray.extend(job(DataList[1]))\n",
    "    OutputArray.extend(marital(DataList[2]))\n",
    "    OutputArray.extend(education(DataList[3]))\n",
    "    OutputArray.extend(default(DataList[4]))\n",
    "    OutputArray.extend([int(DataList[5])])\n",
    "    OutputArray.extend(housing(DataList[6]))\n",
    "    OutputArray.extend(loan(DataList[7]))\n",
    "    OutputArray.extend(contact(DataList[8]))\n",
    "    OutputArray.extend([int(DataList[9])])\n",
    "    OutputArray.extend(month(DataList[10]))\n",
    "    OutputArray.extend([int(DataList[11])])\n",
    "    OutputArray.extend([int(DataList[12])])\n",
    "    OutputArray.extend([int(DataList[13])])\n",
    "    OutputArray.extend([int(DataList[14])])\n",
    "    OutputArray.extend(poutcome(DataList[15]))\n",
    "    \n",
    "    Ans = termDeposit(DataList[16])\n",
    "    return OutputArray, Ans"
   ]
  },
  {
   "cell_type": "code",
   "execution_count": 44,
   "metadata": {},
   "outputs": [],
   "source": [
    "# 要找出最小跟最大的陣列\n",
    "def FindMinAndMax(DataList):\n",
    "    OutputArray = []\n",
    "    \n",
    "    # 先把每一個的值拿進來\n",
    "    for i in range(0, len(DataList[0])):\n",
    "        # 產生暫存的 Array\n",
    "        tempArray = []\n",
    "        \n",
    "        for dataNum in range(0, len(DataList)):\n",
    "            tempArray.append(DataList[dataNum][i])\n",
    "        OutputArray.append([min(tempArray), max(tempArray)])\n",
    "    return OutputArray"
   ]
  },
  {
   "cell_type": "code",
   "execution_count": 45,
   "metadata": {},
   "outputs": [],
   "source": [
    "# Feature 資料\n",
    "FeatureDataList = []\n",
    "\n",
    "# Ans\n",
    "AnsDataList = []\n",
    "\n",
    "for i in range(0, len(trainOrgDataArray)):\n",
    "    FeatureData, AnsData = TransformDataToTraining(trainOrgDataArray[i])\n",
    "    FeatureDataList.append(FeatureData)\n",
    "    AnsDataList.append(AnsData)\n",
    "    \n",
    "# 找出最大最小值，為了要 Normalize\n",
    "MinMaxArrayList = FindMinAndMax(FeatureDataList)\n",
    "for i in range(0, len(trainOrgDataArray)):\n",
    "    for j in range(0, len(trainOrgDataArray[0])):\n",
    "        "
   ]
  }
 ],
 "metadata": {
  "kernelspec": {
   "display_name": "Python 3",
   "language": "python",
   "name": "python3"
  },
  "language_info": {
   "codemirror_mode": {
    "name": "ipython",
    "version": 3
   },
   "file_extension": ".py",
   "mimetype": "text/x-python",
   "name": "python",
   "nbconvert_exporter": "python",
   "pygments_lexer": "ipython3",
   "version": "3.6.2"
  }
 },
 "nbformat": 4,
 "nbformat_minor": 2
}
