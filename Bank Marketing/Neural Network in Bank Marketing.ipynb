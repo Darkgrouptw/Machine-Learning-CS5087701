{
 "cells": [
  {
   "cell_type": "markdown",
   "metadata": {},
   "source": [
    "# 使用 Neural Network 來預測\n",
    "---"
   ]
  },
  {
   "cell_type": "code",
   "execution_count": 71,
   "metadata": {},
   "outputs": [],
   "source": [
    "%matplotlib inline\n",
    "import matplotlib.pyplot as plt\n",
    "import tensorflow as tf\n",
    "import numpy as np\n",
    "import random"
   ]
  },
  {
   "cell_type": "code",
   "execution_count": 2,
   "metadata": {},
   "outputs": [],
   "source": [
    "# 銀行的檔案\n",
    "trainFile = open(\"./Data/bank-full.csv\",\"r\") \n",
    "testFile = open(\"./Data/bank.csv\",\"r\")\n",
    "\n",
    "# 吐掉第一行\n",
    "trainFile.readline()\n",
    "testFile.readline()\n",
    "\n",
    "\n",
    "# 資料\n",
    "trainOrgDataArray = []\n",
    "testOrgDataArray = []\n",
    "for line in trainFile:\n",
    "    lineData = line.split(\";\")\n",
    "    \n",
    "    tempArray = []\n",
    "    for data in lineData:\n",
    "        tempArray.append(data.replace(\"\\n\",\"\"))\n",
    "    trainOrgDataArray.append(tempArray)\n",
    "\n",
    "trainFile.close()\n",
    "testFile.close()"
   ]
  },
  {
   "cell_type": "markdown",
   "metadata": {},
   "source": [
    "## 資料愈處理的函數\n",
    "---"
   ]
  },
  {
   "cell_type": "code",
   "execution_count": 3,
   "metadata": {},
   "outputs": [],
   "source": [
    "def job(x):\n",
    "    return {\n",
    "        \"\\\"admin.\\\"\":         [1,0,0,0,0,0,0,0,0,0,0,0],\n",
    "        \"\\\"unknown\\\"\":        [0,1,0,0,0,0,0,0,0,0,0,0],\n",
    "        \"\\\"unemployed\\\"\":     [0,0,1,0,0,0,0,0,0,0,0,0],\n",
    "        \"\\\"management\\\"\":     [0,0,0,1,0,0,0,0,0,0,0,0],\n",
    "        \"\\\"housemaid\\\"\":      [0,0,0,0,1,0,0,0,0,0,0,0],\n",
    "        \"\\\"entrepreneur\\\"\":   [0,0,0,0,0,1,0,0,0,0,0,0],\n",
    "        \"\\\"student\\\"\":        [0,0,0,0,0,0,1,0,0,0,0,0],\n",
    "        \"\\\"blue-collar\\\"\":    [0,0,0,0,0,0,0,1,0,0,0,0],\n",
    "        \"\\\"self-employed\\\"\":  [0,0,0,0,0,0,0,0,1,0,0,0],\n",
    "        \"\\\"retired\\\"\":        [0,0,0,0,0,0,0,0,0,1,0,0],\n",
    "        \"\\\"technician\\\"\":     [0,0,0,0,0,0,0,0,0,0,1,0],\n",
    "        \"\\\"services\\\"\":       [0,0,0,0,0,0,0,0,0,0,0,1]\n",
    "    }.get(x,                  [1,0,0,0,0,0,0,0,0,0,0,0])"
   ]
  },
  {
   "cell_type": "code",
   "execution_count": 4,
   "metadata": {},
   "outputs": [],
   "source": [
    "def marital(x):\n",
    "    return {\n",
    "        \"\\\"married.\\\"\":       [1,0,0],\n",
    "        \"\\\"divorced\\\"\":       [0,1,0],\n",
    "        \"\\\"single\\\"\":         [0,0,1]\n",
    "    }.get(x,                  [1,0,0])"
   ]
  },
  {
   "cell_type": "code",
   "execution_count": 5,
   "metadata": {},
   "outputs": [],
   "source": [
    "def education(x):\n",
    "    return {\n",
    "        \"\\\"unknown\\\"\":        [1,0,0,0],\n",
    "        \"\\\"secondary\\\"\":      [0,1,0,0],\n",
    "        \"\\\"primary\\\"\":        [0,0,1,0],\n",
    "        \"\\\"tertiary\\\"\":       [0,0,0,1]\n",
    "    }.get(x,                  [1,0,0,0])"
   ]
  },
  {
   "cell_type": "code",
   "execution_count": 6,
   "metadata": {},
   "outputs": [],
   "source": [
    "def default(x):\n",
    "    return {\n",
    "        \"\\\"yes\\\"\":            [1,0],\n",
    "        \"\\\"no\\\"\":             [0,1]\n",
    "    }.get(x,                  [1,0])"
   ]
  },
  {
   "cell_type": "code",
   "execution_count": 7,
   "metadata": {},
   "outputs": [],
   "source": [
    "def housing(x):\n",
    "    return {\n",
    "        \"\\\"yes\\\"\":            [1,0],\n",
    "        \"\\\"no\\\"\":             [0,1]\n",
    "    }.get(x,                  [1,0])"
   ]
  },
  {
   "cell_type": "code",
   "execution_count": 8,
   "metadata": {},
   "outputs": [],
   "source": [
    "def loan(x):\n",
    "    return {\n",
    "        \"\\\"yes\\\"\":            [1,0],\n",
    "        \"\\\"no\\\"\":             [0,1]\n",
    "    }.get(x,                  [1,0])"
   ]
  },
  {
   "cell_type": "code",
   "execution_count": 9,
   "metadata": {},
   "outputs": [],
   "source": [
    "def contact(x):\n",
    "    return {\n",
    "        \"\\\"unknown\\\"\":        [1,0,0],\n",
    "        \"\\\"telephone\\\"\":      [0,1,0],\n",
    "        \"\\\"cellular\\\"\":       [0,0,1]\n",
    "    }.get(x,                  [1,0,0])"
   ]
  },
  {
   "cell_type": "code",
   "execution_count": 10,
   "metadata": {},
   "outputs": [],
   "source": [
    "def month(x):\n",
    "    return {\n",
    "        \"\\\"jan\\\"\":            [1,0,0,0,0,0,0,0,0,0,0,0],\n",
    "        \"\\\"feb\\\"\":            [0,1,0,0,0,0,0,0,0,0,0,0],\n",
    "        \"\\\"mar\\\"\":            [0,0,1,0,0,0,0,0,0,0,0,0],\n",
    "        \"\\\"apr\\\"\":            [0,0,0,1,0,0,0,0,0,0,0,0],\n",
    "        \"\\\"may\\\"\":            [0,0,0,0,1,0,0,0,0,0,0,0],\n",
    "        \"\\\"jun\\\"\":            [0,0,0,0,0,1,0,0,0,0,0,0],\n",
    "        \"\\\"jul\\\"\":            [0,0,0,0,0,0,1,0,0,0,0,0],\n",
    "        \"\\\"aug\\\"\":            [0,0,0,0,0,0,0,1,0,0,0,0],\n",
    "        \"\\\"sep\\\"\":            [0,0,0,0,0,0,0,0,1,0,0,0],\n",
    "        \"\\\"oct\\\"\":            [0,0,0,0,0,0,0,0,0,1,0,0],\n",
    "        \"\\\"nov\\\"\":            [0,0,0,0,0,0,0,0,0,0,1,0],\n",
    "        \"\\\"dec\\\"\":            [0,0,0,0,0,0,0,0,0,0,0,1]\n",
    "    }.get(x,                  [1,0,0,0,0,0,0,0,0,0,0,0])"
   ]
  },
  {
   "cell_type": "code",
   "execution_count": 11,
   "metadata": {},
   "outputs": [],
   "source": [
    "def poutcome(x):\n",
    "    return {\n",
    "        \"\\\"unknown\\\"\":        [1,0,0,0],\n",
    "        \"\\\"other\\\"\":          [0,1,0,0],\n",
    "        \"\\\"failure\\\"\":        [0,0,1,0],\n",
    "        \"\\\"success\\\"\":        [0,0,0,1]\n",
    "    }.get(x,                  [1,0,0,0])"
   ]
  },
  {
   "cell_type": "code",
   "execution_count": 12,
   "metadata": {},
   "outputs": [],
   "source": [
    "def termDeposit(x):\n",
    "    return {\n",
    "        \"\\\"yes\\\"\":            1,\n",
    "        \"\\\"no\\\"\":             0\n",
    "    }.get(x,                  1)"
   ]
  },
  {
   "cell_type": "markdown",
   "metadata": {},
   "source": [
    "## 轉乘資料形式\n",
    "---"
   ]
  },
  {
   "cell_type": "code",
   "execution_count": 13,
   "metadata": {},
   "outputs": [],
   "source": [
    "# 將某一筆資料，全部轉乘 Training 的資料形式\n",
    "def TransformDataToTraining(DataList):\n",
    "    OutputArray = []\n",
    "    \n",
    "    OutputArray.extend([int(DataList[0])])\n",
    "    OutputArray.extend(job(DataList[1]))\n",
    "    OutputArray.extend(marital(DataList[2]))\n",
    "    OutputArray.extend(education(DataList[3]))\n",
    "    OutputArray.extend(default(DataList[4]))\n",
    "    OutputArray.extend([int(DataList[5])])\n",
    "    OutputArray.extend(housing(DataList[6]))\n",
    "    OutputArray.extend(loan(DataList[7]))\n",
    "    OutputArray.extend(contact(DataList[8]))\n",
    "    OutputArray.extend([int(DataList[9])])\n",
    "    OutputArray.extend(month(DataList[10]))\n",
    "    OutputArray.extend([int(DataList[11])])\n",
    "    OutputArray.extend([int(DataList[12])])\n",
    "    OutputArray.extend([int(DataList[13])])\n",
    "    OutputArray.extend([int(DataList[14])])\n",
    "    OutputArray.extend(poutcome(DataList[15]))\n",
    "    \n",
    "    Ans = termDeposit(DataList[16])\n",
    "    return OutputArray, Ans"
   ]
  },
  {
   "cell_type": "code",
   "execution_count": 14,
   "metadata": {},
   "outputs": [],
   "source": [
    "# 要找出最小跟最大的陣列\n",
    "def FindMinAndMax(DataList):\n",
    "    OutputArray = []\n",
    "    \n",
    "    # 先把每一個的值拿進來\n",
    "    for i in range(0, len(DataList[0])):\n",
    "        # 產生暫存的 Array\n",
    "        tempArray = []\n",
    "        \n",
    "        for dataNum in range(0, len(DataList)):\n",
    "            tempArray.append(DataList[dataNum][i])\n",
    "        OutputArray.append([min(tempArray), max(tempArray)])\n",
    "    return OutputArray"
   ]
  },
  {
   "cell_type": "code",
   "execution_count": 42,
   "metadata": {},
   "outputs": [],
   "source": [
    "# Feature 資料\n",
    "FeatureDataList = []\n",
    "\n",
    "# Ans\n",
    "AnsDataList = []\n",
    "\n",
    "for i in range(0, len(trainOrgDataArray)):\n",
    "    FeatureData, AnsData = TransformDataToTraining(trainOrgDataArray[i])\n",
    "    FeatureDataList.append(FeatureData)\n",
    "    AnsDataList.append([0, 1] if AnsData == 1 else [1, 0])\n",
    "    \n",
    "# 找出最大最小值，為了要 Normalize\n",
    "MinMaxArrayList = FindMinAndMax(FeatureDataList)\n",
    "for i in range(0, len(FeatureDataList)):\n",
    "    for j in range(0, len(FeatureDataList[0])):\n",
    "        Min = MinMaxArrayList[j][0]\n",
    "        Max = MinMaxArrayList[j][1]\n",
    "        FeatureDataList[i][j] = (FeatureDataList[i][j] - Min) / (Max - Min)"
   ]
  },
  {
   "cell_type": "code",
   "execution_count": 43,
   "metadata": {},
   "outputs": [
    {
     "name": "stdout",
     "output_type": "stream",
     "text": [
      "Features\n",
      "[0.5194805194805194, 0.0, 0.0, 0.0, 1.0, 0.0, 0.0, 0.0, 0.0, 0.0, 0.0, 0.0, 0.0, 1.0, 0.0, 0.0, 0.0, 0.0, 0.0, 1.0, 0.0, 1.0, 0.09225936484302653, 1.0, 0.0, 0.0, 1.0, 1.0, 0.0, 0.0, 0.13333333333333333, 0.0, 0.0, 0.0, 0.0, 1.0, 0.0, 0.0, 0.0, 0.0, 0.0, 0.0, 0.0, 0.05307035380235868, 0.0, 0.0, 0.0, 1.0, 0.0, 0.0, 0.0]\n",
      "Label Ans\n",
      "[1, 0]\n"
     ]
    }
   ],
   "source": [
    "# 測試輸入\n",
    "print(\"Features\")\n",
    "print(FeatureDataList[0])\n",
    "print(\"Label Ans\")\n",
    "print(AnsDataList[0])"
   ]
  },
  {
   "cell_type": "markdown",
   "metadata": {},
   "source": [
    "## 建構 Tensorflow\n",
    "---"
   ]
  },
  {
   "cell_type": "code",
   "execution_count": 38,
   "metadata": {
    "scrolled": true
   },
   "outputs": [
    {
     "name": "stdout",
     "output_type": "stream",
     "text": [
      "51\n"
     ]
    }
   ],
   "source": [
    "# Size 設定\n",
    "input_size = len(FeatureDataList[0])\n",
    "hidden_size = 500\n",
    "output_size = 2\n",
    "\n",
    "print(input_size)"
   ]
  },
  {
   "cell_type": "code",
   "execution_count": 64,
   "metadata": {},
   "outputs": [],
   "source": [
    "# Input Size => 51\n",
    "x = tf.placeholder(tf.float32, [None, input_size])\n",
    "\n",
    "# Output Size => 2 (0, 1) 的機率\n",
    "y = tf.placeholder(tf.float32, [None, output_size])\n",
    "\n",
    "# 設定中間的  Weight & Bias\n",
    "hidden_weights = tf.Variable(tf.random_normal([input_size, hidden_size]))\n",
    "output_weights = tf.Variable(tf.random_normal([hidden_size, output_size]))\n",
    "\n",
    "hidden_biases = tf.Variable(tf.random_normal([hidden_size]))\n",
    "output_biases = tf.Variable(tf.random_normal([output_size]))"
   ]
  },
  {
   "cell_type": "code",
   "execution_count": 65,
   "metadata": {},
   "outputs": [],
   "source": [
    "hidden_layer = tf.matmul(x, hidden_weights) + hidden_biases\n",
    "hidden_layer = tf.nn.relu(hidden_layer)\n",
    "\n",
    "output_layer = tf.matmul(hidden_layer, output_weights) + output_biases"
   ]
  },
  {
   "cell_type": "code",
   "execution_count": 68,
   "metadata": {},
   "outputs": [],
   "source": [
    "cost = tf.losses.softmax_cross_entropy(\n",
    "    logits = output_layer,\n",
    "    onehot_labels = y)\n",
    "optimizer = tf.train.AdamOptimizer(learning_rate=1e-4).minimize(cost)"
   ]
  },
  {
   "cell_type": "code",
   "execution_count": 70,
   "metadata": {},
   "outputs": [],
   "source": [
    "session = tf.Session()\n",
    "session.run(tf.global_variables_initializer())"
   ]
  },
  {
   "cell_type": "markdown",
   "metadata": {},
   "source": [
    "## 抓 Batch 來訓練\n",
    "---"
   ]
  },
  {
   "cell_type": "code",
   "execution_count": 73,
   "metadata": {},
   "outputs": [],
   "source": [
    "# 每次抓 100 來訓練\n",
    "batch_size = 100"
   ]
  },
  {
   "cell_type": "code",
   "execution_count": 74,
   "metadata": {},
   "outputs": [],
   "source": [
    "def batch_data(batch_size):\n",
    "    batch_x = []\n",
    "    batch_y = []\n",
    "    for i in range(0, batch_size):\n",
    "        randomSize = len(FeatureDataList)\n",
    "        randomIndex = random.randint(0, randomSize)\n",
    "        batch_x.append(FeatureDataLista[randomIndex])\n",
    "        batch_y.append(AnsDataList[randomIndex])\n",
    "    return batch_x, batch_y"
   ]
  },
  {
   "cell_type": "code",
   "execution_count": 75,
   "metadata": {},
   "outputs": [],
   "source": [
    "def optimize(num_iterations):\n",
    "    data_x, data_y = batch_data(batch_size)\n",
    "    session.run(optimizer, feed_dict={x: data_x, y: data_y})"
   ]
  },
  {
   "cell_type": "code",
   "execution_count": null,
   "metadata": {},
   "outputs": [],
   "source": [
    "optimize"
   ]
  }
 ],
 "metadata": {
  "kernelspec": {
   "display_name": "Python 3",
   "language": "python",
   "name": "python3"
  },
  "language_info": {
   "codemirror_mode": {
    "name": "ipython",
    "version": 3
   },
   "file_extension": ".py",
   "mimetype": "text/x-python",
   "name": "python",
   "nbconvert_exporter": "python",
   "pygments_lexer": "ipython3",
   "version": "3.6.3"
  }
 },
 "nbformat": 4,
 "nbformat_minor": 2
}
