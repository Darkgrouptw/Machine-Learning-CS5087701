{
 "cells": [
  {
   "cell_type": "markdown",
   "metadata": {},
   "source": [
    "# 計程車時間預測\n",
    "---\n",
    "[連結](https://www.kaggle.com/c/pkdd-15-taxi-trip-time-prediction-ii)"
   ]
  },
  {
   "cell_type": "code",
   "execution_count": 1,
   "metadata": {},
   "outputs": [],
   "source": [
    "%matplotlib inline\n",
    "import matplotlib.pyplot as plt\n",
    "import tensorflow as tf\n",
    "import numpy as np\n",
    "import os"
   ]
  },
  {
   "cell_type": "markdown",
   "metadata": {},
   "source": [
    "## 資料說明\n",
    "---\n",
    "Each data sample corresponds to one completed trip. It contains a total of \n",
    "9 (nine) features, described as follows:\n",
    "\n",
    "1. TRIP_ID: (String) It contains an unique identifier for each trip;  \n",
    "2. CALL_TYPE: (char) It identifies the way used to demand this service. It may contain one of three possible values:  \n",
    "a. ‘A’ if this trip was dispatched from the central;  \n",
    "b. ‘B’ if this trip was demanded directly to a taxi driver on a specific stand;  \n",
    "c. ‘C’ otherwise (i.e. a trip demanded on a random street).\n",
    "3. ORIGIN_CALL: (integer) It contains an unique identifier for each phone number which was used to demand, at least, one service. It identifies the trip’s customer if CALL_TYPE=’A’. Otherwise, it assumes a NULL value;\n",
    "4. ORIGIN_STAND: (integer): It contains an unique identifier for the taxi stand. It identifies the starting point of the trip if CALL_TYPE=’B’. Otherwise, it assumes a NULL value;\n",
    "5. TAXI_ID: (integer): It contains an unique identifier for the taxi driver that performed each trip;\n",
    "6. TIMESTAMP: (integer) Unix Timestamp (in seconds). It identifies the trip’s start; \n",
    "7. DAYTYPE: (char) It identifies the daytype of the trip’s start. It assumes one of three possible values:\n",
    "a. ‘B’ if this trip started on a holiday or any other special day (i.e. extending holidays, floating holidays, etc.);\n",
    "b. ‘C’ if the trip started on a day before a type-B day;\n",
    "c. ‘A’ otherwise (i.e. a normal day, workday or weekend).\n",
    "8. MISSING_DATA: (Boolean) It is FALSE when the GPS data stream is complete and TRUE whenever one (or more) locations are missing\n",
    "9. POLYLINE: (String): It contains a list of GPS coordinates (i.e. WGS84 format) mapped as a string. The beginning and the end of the string are identified with brackets (i.e. [ and ], respectively). Each pair of coordinates is also identified by the same brackets as [LONGITUDE, LATITUDE]. This list contains one pair of coordinates for each 15 seconds of trip. The last list item corresponds to the trip’s destination while the first one represents its start;\n",
    "\n",
    "**The total travel time of the trip (the prediction target of this competition) is defined as the (number of points-1) x 15 seconds. For example, a trip with 101 data points in POLYLINE has a length of (101-1) * 15 = 1500 seconds. Some trips have missing data points in POLYLINE, indicated by MISSING_DATA column, and it is part of the challenge how you utilize this knowledge.** "
   ]
  },
  {
   "cell_type": "markdown",
   "metadata": {},
   "source": [
    "## 讀取資料\n",
    "---"
   ]
  },
  {
   "cell_type": "code",
   "execution_count": 2,
   "metadata": {},
   "outputs": [
    {
     "name": "stdout",
     "output_type": "stream",
     "text": [
      "Train Size => 1710670\n",
      "Test Size =>320\n"
     ]
    }
   ],
   "source": [
    "TrainData = []\n",
    "TestData = []\n",
    "\n",
    "TrainFile = open(\"./Data/train.csv\", \"r\", encoding=\"utf-8\")\n",
    "TestFile = open(\"./Data/test.csv\", \"r\", encoding=\"utf-8\")\n",
    "TrainFileLine = TrainFile.read().splitlines()\n",
    "TestFileLine = TestFile.read().splitlines()\n",
    "\n",
    "# 刪除第一欄的垃圾\n",
    "TrainFileLine = TrainFileLine[1:len(TrainFileLine)]\n",
    "TestFileLine = TestFileLine[1:len(TestFileLine)]\n",
    "\n",
    "print(\"Train Size => \" + format(len(TrainFileLine)))\n",
    "print(\"Test Size =>\" + format(len(TestFileLine)))"
   ]
  },
  {
   "cell_type": "code",
   "execution_count": 3,
   "metadata": {
    "scrolled": true
   },
   "outputs": [
    {
     "name": "stdout",
     "output_type": "stream",
     "text": [
      "\"1372636858620000589\",\"C\",\"\",\"\",\"20000589\",\"1372636858\",\"A\",\"False\",\"[[-8.618643,41.141412],[-8.618499,41.141376],[-8.620326,41.14251],[-8.622153,41.143815],[-8.623953,41.144373],[-8.62668,41.144778],[-8.627373,41.144697],[-8.630226,41.14521],[-8.632746,41.14692],[-8.631738,41.148225],[-8.629938,41.150385],[-8.62911,41.151213],[-8.629128,41.15124],[-8.628786,41.152203],[-8.628687,41.152374],[-8.628759,41.152518],[-8.630838,41.15268],[-8.632323,41.153022],[-8.631144,41.154489],[-8.630829,41.154507],[-8.630829,41.154516],[-8.630829,41.154498],[-8.630838,41.154489]]\"\n"
     ]
    }
   ],
   "source": [
    "print(TrainFileLine[0])"
   ]
  },
  {
   "cell_type": "markdown",
   "metadata": {},
   "source": [
    "## 為資料做處理\n",
    "---"
   ]
  },
  {
   "cell_type": "code",
   "execution_count": 4,
   "metadata": {},
   "outputs": [],
   "source": [
    "# 存 Type A 的資料\n",
    "ATrainList = []\n",
    "\n",
    "BTrainList = []\n",
    "\n",
    "CTrainList = []"
   ]
  },
  {
   "cell_type": "code",
   "execution_count": 5,
   "metadata": {},
   "outputs": [],
   "source": [
    "# 將原本的 String 拆解成 Array\n",
    "def splitInPart(data):\n",
    "    # 刪除前面 & 最後面的雙引號\n",
    "    data = data[1:len(data) - 1]\n",
    "    dataList = data.split(\"\\\",\\\"\")\n",
    "    return dataList"
   ]
  },
  {
   "cell_type": "code",
   "execution_count": 6,
   "metadata": {},
   "outputs": [],
   "source": [
    "# 將資料丟進來\n",
    "def ParseDataInList(string):\n",
    "    if(string != \"\"):\n",
    "        dataVector = splitInPart(string)\n",
    "\n",
    "        # 丟掉 Missing Data 是 True 的部分\n",
    "        if(dataVector[7] == \"False\"):\n",
    "            TrainData.append(dataVector)"
   ]
  },
  {
   "cell_type": "code",
   "execution_count": 7,
   "metadata": {
    "scrolled": true
   },
   "outputs": [
    {
     "name": "stdout",
     "output_type": "stream",
     "text": [
      "1710660\n"
     ]
    }
   ],
   "source": [
    "# 開始 Parse 資料\n",
    "for i in range(0, len(TrainFileLine)):\n",
    "    # 先將原本的資料裝成 List\n",
    "    ParseDataInList(TrainFileLine[i])\n",
    "print(len(TrainData))"
   ]
  },
  {
   "cell_type": "markdown",
   "metadata": {},
   "source": [
    "拆解資料  \n",
    "讓資料會根據 Call Type  \n",
    "來做出三種不同的 Model 來預測"
   ]
  },
  {
   "cell_type": "code",
   "execution_count": null,
   "metadata": {},
   "outputs": [],
   "source": [
    "# ORIGIN_CALL 的資料用來分類用的\n"
   ]
  },
  {
   "cell_type": "code",
   "execution_count": null,
   "metadata": {},
   "outputs": [],
   "source": [
    "for i in range(0, len(TrainData)):\n",
    "    # 先找出所有的"
   ]
  }
 ],
 "metadata": {
  "kernelspec": {
   "display_name": "Python 3",
   "language": "python",
   "name": "python3"
  },
  "language_info": {
   "codemirror_mode": {
    "name": "ipython",
    "version": 3
   },
   "file_extension": ".py",
   "mimetype": "text/x-python",
   "name": "python",
   "nbconvert_exporter": "python",
   "pygments_lexer": "ipython3",
   "version": "3.6.3"
  }
 },
 "nbformat": 4,
 "nbformat_minor": 2
}
