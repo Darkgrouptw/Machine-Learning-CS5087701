{
 "cells": [
  {
   "cell_type": "markdown",
   "metadata": {},
   "source": [
    "# 計程車時間預測\n",
    "---\n",
    "[連結](https://www.kaggle.com/c/pkdd-15-taxi-trip-time-prediction-ii)"
   ]
  },
  {
   "cell_type": "code",
   "execution_count": 1,
   "metadata": {},
   "outputs": [],
   "source": [
    "%matplotlib inline\n",
    "import matplotlib.pyplot as plt\n",
    "import tensorflow as tf\n",
    "import numpy as np\n",
    "import os\n",
    "import datetime"
   ]
  },
  {
   "cell_type": "markdown",
   "metadata": {},
   "source": [
    "## 資料說明\n",
    "---\n",
    "Each data sample corresponds to one completed trip. It contains a total of \n",
    "9 (nine) features, described as follows:\n",
    "\n",
    "1. TRIP_ID: (String) It contains an unique identifier for each trip;  \n",
    "2. CALL_TYPE: (char) It identifies the way used to demand this service. It may contain one of three possible values:  \n",
    "a. ‘A’ if this trip was dispatched from the central;  \n",
    "b. ‘B’ if this trip was demanded directly to a taxi driver on a specific stand;  \n",
    "c. ‘C’ otherwise (i.e. a trip demanded on a random street).\n",
    "3. ORIGIN_CALL: (integer) It contains an unique identifier for each phone number which was used to demand, at least, one service. It identifies the trip’s customer if CALL_TYPE=’A’. Otherwise, it assumes a NULL value;\n",
    "4. ORIGIN_STAND: (integer): It contains an unique identifier for the taxi stand. It identifies the starting point of the trip if CALL_TYPE=’B’. Otherwise, it assumes a NULL value;\n",
    "5. TAXI_ID: (integer): It contains an unique identifier for the taxi driver that performed each trip;\n",
    "6. TIMESTAMP: (integer) Unix Timestamp (in seconds). It identifies the trip’s start; \n",
    "7. DAYTYPE: (char) It identifies the daytype of the trip’s start. It assumes one of three possible values:\n",
    "a. ‘B’ if this trip started on a holiday or any other special day (i.e. extending holidays, floating holidays, etc.);\n",
    "b. ‘C’ if the trip started on a day before a type-B day;\n",
    "c. ‘A’ otherwise (i.e. a normal day, workday or weekend).\n",
    "8. MISSING_DATA: (Boolean) It is FALSE when the GPS data stream is complete and TRUE whenever one (or more) locations are missing\n",
    "9. POLYLINE: (String): It contains a list of GPS coordinates (i.e. WGS84 format) mapped as a string. The beginning and the end of the string are identified with brackets (i.e. [ and ], respectively). Each pair of coordinates is also identified by the same brackets as [LONGITUDE, LATITUDE]. This list contains one pair of coordinates for each 15 seconds of trip. The last list item corresponds to the trip’s destination while the first one represents its start;\n",
    "\n",
    "**The total travel time of the trip (the prediction target of this competition) is defined as the (number of points-1) x 15 seconds. For example, a trip with 101 data points in POLYLINE has a length of (101-1) * 15 = 1500 seconds. Some trips have missing data points in POLYLINE, indicated by MISSING_DATA column, and it is part of the challenge how you utilize this knowledge.** "
   ]
  },
  {
   "cell_type": "markdown",
   "metadata": {},
   "source": [
    "## 讀取資料\n",
    "---"
   ]
  },
  {
   "cell_type": "code",
   "execution_count": 2,
   "metadata": {},
   "outputs": [
    {
     "name": "stdout",
     "output_type": "stream",
     "text": [
      "Train Size => 1710670\n",
      "Test Size =>320\n"
     ]
    }
   ],
   "source": [
    "TrainData = []\n",
    "TestData = []\n",
    "\n",
    "TrainFile = open(\"./Data/train.csv\", \"r\", encoding=\"utf-8\")\n",
    "TestFile = open(\"./Data/test.csv\", \"r\", encoding=\"utf-8\")\n",
    "TrainFileLine = TrainFile.read().splitlines()\n",
    "TestFileLine = TestFile.read().splitlines()\n",
    "\n",
    "# 刪除第一欄的垃圾\n",
    "TrainFileLine = TrainFileLine[1:len(TrainFileLine)]\n",
    "TestFileLine = TestFileLine[1:len(TestFileLine)]\n",
    "\n",
    "# 關閉檔案\n",
    "TrainFile.close()\n",
    "TestFile.close()\n",
    "\n",
    "print(\"Train Size => \" + format(len(TrainFileLine)))\n",
    "print(\"Test Size =>\" + format(len(TestFileLine)))"
   ]
  },
  {
   "cell_type": "code",
   "execution_count": 3,
   "metadata": {
    "scrolled": true
   },
   "outputs": [
    {
     "name": "stdout",
     "output_type": "stream",
     "text": [
      "\"1372636858620000589\",\"C\",\"\",\"\",\"20000589\",\"1372636858\",\"A\",\"False\",\"[[-8.618643,41.141412],[-8.618499,41.141376],[-8.620326,41.14251],[-8.622153,41.143815],[-8.623953,41.144373],[-8.62668,41.144778],[-8.627373,41.144697],[-8.630226,41.14521],[-8.632746,41.14692],[-8.631738,41.148225],[-8.629938,41.150385],[-8.62911,41.151213],[-8.629128,41.15124],[-8.628786,41.152203],[-8.628687,41.152374],[-8.628759,41.152518],[-8.630838,41.15268],[-8.632323,41.153022],[-8.631144,41.154489],[-8.630829,41.154507],[-8.630829,41.154516],[-8.630829,41.154498],[-8.630838,41.154489]]\"\n"
     ]
    }
   ],
   "source": [
    "print(TrainFileLine[0])"
   ]
  },
  {
   "cell_type": "markdown",
   "metadata": {},
   "source": [
    "## 為資料做處理\n",
    "---"
   ]
  },
  {
   "cell_type": "code",
   "execution_count": 4,
   "metadata": {},
   "outputs": [],
   "source": [
    "# 存 Type A 的資料\n",
    "ATempList = []\n",
    "ADataList = []\n",
    "BTempList = []\n",
    "BDataList = []\n",
    "CTempList = []\n",
    "CDataList = []"
   ]
  },
  {
   "cell_type": "code",
   "execution_count": 5,
   "metadata": {},
   "outputs": [],
   "source": [
    "# 將原本的 String 拆解成 Array\n",
    "def splitInPart(data):\n",
    "    # 刪除前面 & 最後面的雙引號\n",
    "    data = data[1:len(data) - 1]\n",
    "    dataList = data.split(\"\\\",\\\"\")\n",
    "    return dataList"
   ]
  },
  {
   "cell_type": "code",
   "execution_count": 6,
   "metadata": {},
   "outputs": [],
   "source": [
    "# 將資料丟進來\n",
    "def ParseDataInList(string):\n",
    "    if(string != \"\"):\n",
    "        dataVector = splitInPart(string)\n",
    "\n",
    "        # 丟掉 Missing Data 是 True 的部分\n",
    "        if(dataVector[7] == \"False\"):\n",
    "            TrainData.append(dataVector)"
   ]
  },
  {
   "cell_type": "code",
   "execution_count": 7,
   "metadata": {
    "scrolled": true
   },
   "outputs": [
    {
     "name": "stdout",
     "output_type": "stream",
     "text": [
      "1710660\n"
     ]
    }
   ],
   "source": [
    "# 開始 Parse 資料\n",
    "for i in range(0, len(TrainFileLine)):\n",
    "    # 先將原本的資料裝成 List\n",
    "    ParseDataInList(TrainFileLine[i])\n",
    "print(len(TrainData))"
   ]
  },
  {
   "cell_type": "markdown",
   "metadata": {},
   "source": [
    "拆解資料  \n",
    "讓資料會根據 Call Type  \n",
    "來做出三種不同的 Model 來預測"
   ]
  },
  {
   "cell_type": "code",
   "execution_count": 8,
   "metadata": {},
   "outputs": [
    {
     "name": "stdout",
     "output_type": "stream",
     "text": [
      "A type size => 364769\n",
      "B type size => 817878\n",
      "C type size => 528013\n"
     ]
    }
   ],
   "source": [
    "# 先丟到對應的堆裡面\n",
    "for i in range(0, len(TrainData)):\n",
    "    # 先分類\n",
    "    if(TrainData[i][1] == 'A'):\n",
    "        ATempList.append(TrainData[i])\n",
    "    elif(TrainData[i][1] == 'B'):\n",
    "        BTempList.append(TrainData[i])\n",
    "    else:\n",
    "        CTempList.append(TrainData[i])\n",
    "TrainData = []\n",
    "print(\"A type size => \" + format(len(ATempList)))\n",
    "print(\"B type size => \" + format(len(BTempList)))\n",
    "print(\"C type size => \" + format(len(CTempList)))"
   ]
  },
  {
   "cell_type": "code",
   "execution_count": 9,
   "metadata": {},
   "outputs": [],
   "source": [
    "# 計算時間\n",
    "def CountTripTime(polyLine):\n",
    "    # 避免遇到 [] 這個 case\n",
    "    if(polyLine == \"[]\"):\n",
    "        return 0, 0, 0\n",
    "    \n",
    "    polyLine = polyLine[2:len(polyLine) - 2]\n",
    "    GPSPoints = polyLine.split(\"],[\")\n",
    "    Time = (len(GPSPoints) - 1) * 15\n",
    "    \n",
    "    # 計算終點和起點的差距\n",
    "    StartPosStr = GPSPoints[0].split(\",\")\n",
    "    StartPosX = float(StartPosStr[0])\n",
    "    StartPosY = float(StartPosStr[1])\n",
    "    EndPosStr = GPSPoints[len(GPSPoints) - 1].split(\",\")\n",
    "    EndPosX = float(EndPosStr[0])\n",
    "    EndPosY = float(EndPosStr[1])\n",
    "    return (EndPosX - StartPosX), (EndPosY - StartPosY), Time"
   ]
  },
  {
   "cell_type": "code",
   "execution_count": 10,
   "metadata": {},
   "outputs": [],
   "source": [
    "def ReduceUnixTime(stamp):\n",
    "    weekday = datetime.datetime.fromtimestamp(int(stamp)).strftime('%a')\n",
    "    hour = datetime.datetime.fromtimestamp(int(stamp)).strftime('%H')\n",
    "    \n",
    "    if(weekday == \"Mon\"):\n",
    "        weekday = \"1\"\n",
    "    elif(weekday == \"Tue\"):\n",
    "        weekday = \"2\"\n",
    "    elif(weekday == \"Wed\"):\n",
    "        weekday = \"3\"\n",
    "    elif(weekday == \"Thu\"):\n",
    "        weekday = \"4\"\n",
    "    elif(weekday == \"Fri\"):\n",
    "        weekday = \"5\"\n",
    "    elif(weekday == \"Sat\"):\n",
    "        weekday = \"6\"\n",
    "    else:\n",
    "        weekday = \"0\"\n",
    "    return weekday, hour"
   ]
  },
  {
   "cell_type": "markdown",
   "metadata": {},
   "source": [
    "### 將轉呈 Feature 的資料保存\n",
    "---"
   ]
  },
  {
   "cell_type": "code",
   "execution_count": 11,
   "metadata": {},
   "outputs": [],
   "source": [
    "def WriteAllToFile(data, FileName, Title):\n",
    "    # 創建資料\n",
    "    if(not os.path.isdir(\"./Transform Data/\")):\n",
    "        os.mkdir(\"./Transform Data/\")\n",
    "        \n",
    "    # 寫入資料\n",
    "    file = open(\"./Transform Data/\" + FileName, \"w\")\n",
    "    file.write(Title)\n",
    "    for lineData in data:\n",
    "        for index in range(0, len(lineData)):\n",
    "            if(index > 0):\n",
    "                file.write(\",\")\n",
    "            file.write(format(lineData[index]))\n",
    "        file.write(\"\\n\")\n",
    "    file.close()"
   ]
  },
  {
   "cell_type": "markdown",
   "metadata": {},
   "source": [
    "### 處理 A Type 資料\n",
    "---"
   ]
  },
  {
   "cell_type": "code",
   "execution_count": 12,
   "metadata": {},
   "outputs": [],
   "source": [
    "# 把沒用的東西丟掉\n",
    "def ThrowUselessThingInA():\n",
    "    for i in range(0, len(ATempList)):\n",
    "        tempData = []\n",
    "        \n",
    "        # 發現好像全部 A Type 的，DataType 都是 A(Normal Day)\n",
    "        W, D = ReduceUnixTime(ATempList[i][5])\n",
    "        tempData.append(W)\n",
    "        tempData.append(D)\n",
    "        \n",
    "        # 轉換後的結果\n",
    "        X, Y, T = CountTripTime(ATempList[i][8])\n",
    "        tempData.append(format(X))\n",
    "        tempData.append(format(Y))\n",
    "        tempData.append(format(T))\n",
    "        \n",
    "        if(T > 0):\n",
    "            ADataList.append(tempData)"
   ]
  },
  {
   "cell_type": "code",
   "execution_count": 13,
   "metadata": {
    "scrolled": true
   },
   "outputs": [],
   "source": [
    "ThrowUselessThingInA()\n",
    "WriteAllToFile(ADataList, \"A.csv\", \"\\\"Weekday\\\",\\\"Hour\\\",\\\"DiffLong\\\",\\\"DiffLat\\\",\\\"Time\\\"\\n\")"
   ]
  },
  {
   "cell_type": "markdown",
   "metadata": {},
   "source": [
    "### 處理 B Type 的資料\n",
    "---"
   ]
  },
  {
   "cell_type": "code",
   "execution_count": 14,
   "metadata": {},
   "outputs": [],
   "source": [
    "# 把沒用的東西丟掉\n",
    "def ThrowUselessThingInB():\n",
    "    for i in range(0, len(BTempList)):\n",
    "        tempData = []\n",
    "        \n",
    "        # 同上，DataType 都是 A(Normal Day)\n",
    "        W, D = ReduceUnixTime(BTempList[i][5])\n",
    "        tempData.append(W)\n",
    "        tempData.append(D)\n",
    "        \n",
    "         # 轉換後的結果\n",
    "        X, Y, T = CountTripTime(BTempList[i][8])\n",
    "        tempData.append(format(X))\n",
    "        tempData.append(format(Y))\n",
    "        tempData.append(format(T))\n",
    "         \n",
    "        if(T > 0):\n",
    "            BDataList.append(tempData)"
   ]
  },
  {
   "cell_type": "code",
   "execution_count": 15,
   "metadata": {},
   "outputs": [],
   "source": [
    "ThrowUselessThingInB()\n",
    "WriteAllToFile(BDataList, \"B.csv\", \"\\\"Weekday\\\",\\\"Hour\\\",\\\"DiffLong\\\",\\\"DiffLat\\\",\\\"Time\\\"\\n\")"
   ]
  },
  {
   "cell_type": "markdown",
   "metadata": {},
   "source": [
    "### 處理 C Type 的資料\n",
    "---"
   ]
  },
  {
   "cell_type": "code",
   "execution_count": 16,
   "metadata": {},
   "outputs": [],
   "source": [
    "# 把沒用的東西丟掉\n",
    "def ThrowUselessThingInC():\n",
    "    for i in range(0, len(CTempList)):\n",
    "        tempData = []\n",
    "        \n",
    "        # 同上，DataType 都是 A(Normal Day)\n",
    "        W, D = ReduceUnixTime(CTempList[i][5])\n",
    "        tempData.append(W)\n",
    "        tempData.append(D)\n",
    "        \n",
    "         # 轉換後的結果\n",
    "        X, Y, T = CountTripTime(CTempList[i][8])\n",
    "        tempData.append(format(X))\n",
    "        tempData.append(format(Y))\n",
    "        tempData.append(format(T))\n",
    "         \n",
    "        if(T > 0):\n",
    "            CDataList.append(tempData)"
   ]
  },
  {
   "cell_type": "code",
   "execution_count": 17,
   "metadata": {},
   "outputs": [],
   "source": [
    "ThrowUselessThingInC()\n",
    "WriteAllToFile(CDataList, \"C.csv\", \"\\\"Weekday\\\",\\\"Hour\\\",\\\"DiffLong\\\",\\\"DiffLat\\\",\\\"Time\\\"\\n\")"
   ]
  },
  {
   "cell_type": "markdown",
   "metadata": {},
   "source": [
    "## 轉換 Test Data\n",
    "---"
   ]
  },
  {
   "cell_type": "code",
   "execution_count": 18,
   "metadata": {},
   "outputs": [],
   "source": [
    "TestDataList = []"
   ]
  },
  {
   "cell_type": "code",
   "execution_count": 19,
   "metadata": {},
   "outputs": [],
   "source": [
    "def ParseDataInTestList(string):\n",
    "    if(string != \"\"):\n",
    "        dataVector = splitInPart(string)\n",
    "\n",
    "    # 丟掉 Missing Data 是 True 的部分\n",
    "    if(dataVector[7] == \"False\"):\n",
    "        TestData.append(dataVector)"
   ]
  },
  {
   "cell_type": "code",
   "execution_count": 20,
   "metadata": {
    "scrolled": false
   },
   "outputs": [
    {
     "name": "stdout",
     "output_type": "stream",
     "text": [
      "320\n"
     ]
    }
   ],
   "source": [
    "# 開始 Parse 資料\n",
    "for i in range(0, len(TestFileLine)):\n",
    "    # 先將原本的資料裝成 List\n",
    "    ParseDataInTestList(TestFileLine[i])\n",
    "print(len(TestData))"
   ]
  },
  {
   "cell_type": "markdown",
   "metadata": {},
   "source": [
    "### 處理 Test Data\n",
    "---"
   ]
  },
  {
   "cell_type": "code",
   "execution_count": 21,
   "metadata": {},
   "outputs": [],
   "source": [
    "# 把沒用的東西丟掉\n",
    "def ThrowUselessThingInTest():\n",
    "    for i in range(0, len(TestData)):\n",
    "        tempData = []\n",
    "        \n",
    "        tempData.append(TestData[i][0])\n",
    "        tempData.append(TestData[i][1])\n",
    "        \n",
    "        # 發現好像全部 A Type 的，DataType 都是 A(Normal Day)\n",
    "        W, D = ReduceUnixTime(TestData[i][5])\n",
    "        tempData.append(W)\n",
    "        tempData.append(D)\n",
    "        \n",
    "        # 轉換後的結果\n",
    "        X, Y, T = CountTripTime(TestData[i][8])\n",
    "        tempData.append(format(X))\n",
    "        tempData.append(format(Y))\n",
    "        tempData.append(format(T))\n",
    "        \n",
    "        TestDataList.append(tempData)"
   ]
  },
  {
   "cell_type": "code",
   "execution_count": 22,
   "metadata": {},
   "outputs": [],
   "source": [
    "ThrowUselessThingInTest()\n",
    "WriteAllToFile(TestDataList, \"Test.csv\", \"\\\"TRIP_ID\\\",\\\"CALL_TYPE\\\",\\\"Weekday\\\",\\\"Hour\\\",\\\"DiffLong\\\",\\\"DiffLat\\\",\\\"Time\\\"\\n\")"
   ]
  }
 ],
 "metadata": {
  "kernelspec": {
   "display_name": "Python 3",
   "language": "python",
   "name": "python3"
  },
  "language_info": {
   "codemirror_mode": {
    "name": "ipython",
    "version": 3
   },
   "file_extension": ".py",
   "mimetype": "text/x-python",
   "name": "python",
   "nbconvert_exporter": "python",
   "pygments_lexer": "ipython3",
   "version": "3.6.3"
  }
 },
 "nbformat": 4,
 "nbformat_minor": 2
}
