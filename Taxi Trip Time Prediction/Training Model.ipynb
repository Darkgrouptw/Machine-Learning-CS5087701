{
 "cells": [
  {
   "cell_type": "markdown",
   "metadata": {},
   "source": [
    "# 建立 Model 來學習\n",
    "---"
   ]
  },
  {
   "cell_type": "code",
   "execution_count": 1,
   "metadata": {},
   "outputs": [],
   "source": [
    "import tensorflow as tf\n",
    "import numpy as np\n",
    "import os"
   ]
  },
  {
   "cell_type": "markdown",
   "metadata": {},
   "source": [
    "## 讀資料\n",
    "---"
   ]
  },
  {
   "cell_type": "code",
   "execution_count": 2,
   "metadata": {},
   "outputs": [],
   "source": [
    "AFile = open(\"./Transform Data/A.csv\", \"r\", encoding=\"utf-8\")\n",
    "BFile = open(\"./Transform Data/B.csv\", \"r\", encoding=\"utf-8\")\n",
    "CFile = open(\"./Transform Data/C.csv\", \"r\", encoding=\"utf-8\")\n",
    "TestFile = open(\"./Transform Data/Test.csv\", \"r\", encoding=\"utf-8\")\n",
    "\n",
    "AFileData = AFile.read().split(\"\\n\")\n",
    "BFileData = BFile.read().split(\"\\n\")\n",
    "CFileData = CFile.read().split(\"\\n\")\n",
    "TestFileData = TestFile.read().split(\"\\n\")\n",
    "\n",
    "# 濾掉第一欄\n",
    "AFileData = AFileData[1:]\n",
    "BFileData = BFileData[1:]\n",
    "CFileData = CFileData[1:]\n",
    "TestFileData = TestFileData[1:]\n",
    "\n",
    "# 關閉檔案\n",
    "AFile.close()\n",
    "BFile.close()\n",
    "CFile.close()\n",
    "TestFile.close()"
   ]
  },
  {
   "cell_type": "markdown",
   "metadata": {},
   "source": [
    "### 拿出 Features\n",
    "---"
   ]
  },
  {
   "cell_type": "code",
   "execution_count": 3,
   "metadata": {},
   "outputs": [
    {
     "name": "stdout",
     "output_type": "stream",
     "text": [
      "362716\n"
     ]
    }
   ],
   "source": [
    "AData = []\n",
    "ATime = []\n",
    "for i in range(0, len(AFileData)):\n",
    "    tempData = AFileData[i].split(\",\")\n",
    "    \n",
    "    # 判斷是不是讀到沒東西\n",
    "    if(len(tempData) <= 1):\n",
    "        break\n",
    "    \n",
    "    tempList = []\n",
    "    tempList.append(tempData[0])\n",
    "    tempList.append(tempData[1])\n",
    "    tempList.append(tempData[2])\n",
    "    tempList.append(tempData[3])\n",
    "    \n",
    "    AData.append(tempList)\n",
    "    ATime.append([tempData[4]])\n",
    "\n",
    "AData = np.asarray(AData)\n",
    "ATime = np.asarray(ATime)\n",
    "print(len(AData))"
   ]
  },
  {
   "cell_type": "code",
   "execution_count": 4,
   "metadata": {},
   "outputs": [
    {
     "name": "stdout",
     "output_type": "stream",
     "text": [
      "808889\n"
     ]
    }
   ],
   "source": [
    "BData = []\n",
    "BTime = []\n",
    "for i in range(0, len(BFileData)):\n",
    "    tempData = BFileData[i].split(\",\")\n",
    "    \n",
    "    # 判斷是不是讀到沒東西\n",
    "    if(len(tempData) <= 1):\n",
    "        break\n",
    "    \n",
    "    tempList = []\n",
    "    tempList.append(tempData[0])\n",
    "    tempList.append(tempData[1])\n",
    "    tempList.append(tempData[2])\n",
    "    tempList.append(tempData[3])\n",
    "    \n",
    "    BData.append(tempList)\n",
    "    BTime.append([tempData[4]])\n",
    "\n",
    "BData = np.asarray(BData)\n",
    "BTime = np.asarray(BTime)\n",
    "print(len(BData))"
   ]
  },
  {
   "cell_type": "code",
   "execution_count": 5,
   "metadata": {
    "scrolled": true
   },
   "outputs": [
    {
     "name": "stdout",
     "output_type": "stream",
     "text": [
      "502547\n"
     ]
    }
   ],
   "source": [
    "CData = []\n",
    "CTime = []\n",
    "for i in range(0, len(CFileData)):\n",
    "    tempData = CFileData[i].split(\",\")\n",
    "    \n",
    "    # 判斷是不是讀到沒東西\n",
    "    if(len(tempData) <= 1):\n",
    "        break\n",
    "    \n",
    "    tempList = []\n",
    "    tempList.append(tempData[0])\n",
    "    tempList.append(tempData[1])\n",
    "    tempList.append(tempData[2])\n",
    "    tempList.append(tempData[3])\n",
    "    \n",
    "    CData.append(tempList)\n",
    "    CTime.append([tempData[4]])\n",
    "\n",
    "CData = np.asarray(CData)\n",
    "CTime = np.asarray(CTime)\n",
    "print(len(CData))"
   ]
  },
  {
   "cell_type": "code",
   "execution_count": 6,
   "metadata": {},
   "outputs": [
    {
     "name": "stdout",
     "output_type": "stream",
     "text": [
      "320\n"
     ]
    }
   ],
   "source": [
    "TestData = []\n",
    "TestNumber = []\n",
    "TestType = []\n",
    "for i in range(0, len(TestFileData)):\n",
    "    tempData = TestFileData[i].split(\",\")\n",
    "    \n",
    "    # 判斷是不是讀到沒東西\n",
    "    if(len(tempData) <= 1):\n",
    "        break\n",
    "    \n",
    "    TestNumber.append(tempData[0])\n",
    "    TestType.append(tempData[1])\n",
    "    \n",
    "    tempList = []\n",
    "    tempList.append(tempData[2])\n",
    "    tempList.append(tempData[3])\n",
    "    tempList.append(tempData[4])\n",
    "    tempList.append(tempData[5])\n",
    "    \n",
    "    TestData.append(tempList)\n",
    "print(len(TestData))"
   ]
  },
  {
   "cell_type": "markdown",
   "metadata": {},
   "source": [
    "## 建立 helper function\n",
    "---"
   ]
  },
  {
   "cell_type": "code",
   "execution_count": 7,
   "metadata": {},
   "outputs": [],
   "source": [
    "def batchData(data, ans, batchSize):\n",
    "    indexArray = np.arange(len(data))\n",
    "    np.random.shuffle(indexArray)\n",
    "    \n",
    "    return data[indexArray[0:batchSize]], ans[indexArray[0:batchSize]]"
   ]
  },
  {
   "cell_type": "markdown",
   "metadata": {},
   "source": [
    "## 建立 Model\n",
    "---"
   ]
  },
  {
   "cell_type": "code",
   "execution_count": 8,
   "metadata": {},
   "outputs": [],
   "source": [
    "weightInit = tf.random_normal_initializer(mean=0,stddev=0.3)\n",
    "biasInit = tf.random_normal_initializer(mean=0,stddev=0.1)"
   ]
  },
  {
   "cell_type": "markdown",
   "metadata": {},
   "source": [
    "### A Model\n",
    "---"
   ]
  },
  {
   "cell_type": "code",
   "execution_count": 9,
   "metadata": {},
   "outputs": [],
   "source": [
    "AInput = tf.placeholder(tf.float32, [None, 4], name=\"AInput\")\n",
    "ALabel = tf.placeholder(tf.float32, [None, 1], name=\"ALabel\")\n",
    "\n",
    "with tf.name_scope(\"A_Model\"):\n",
    "    ALayer1 = tf.layers.dense(\n",
    "        inputs = AInput,\n",
    "        units = 128,\n",
    "        activation = tf.nn.relu,\n",
    "        kernel_initializer = weightInit,\n",
    "        bias_initializer = biasInit,\n",
    "        name = \"ALayer1\"\n",
    "    )\n",
    "    ALayer2 = tf.layers.dense(\n",
    "        inputs = ALayer1,\n",
    "        units = 32,\n",
    "        activation = tf.nn.relu,\n",
    "        kernel_initializer = weightInit,\n",
    "        bias_initializer = biasInit,\n",
    "        name = \"ALayer2\"\n",
    "    )\n",
    "    APredTime = tf.layers.dense(\n",
    "        inputs = ALayer2,\n",
    "        units = 1,\n",
    "        kernel_initializer = weightInit,\n",
    "        bias_initializer = biasInit,\n",
    "        name = \"APredTime\"\n",
    "    )"
   ]
  },
  {
   "cell_type": "code",
   "execution_count": 10,
   "metadata": {},
   "outputs": [],
   "source": [
    "Aloss = tf.losses.mean_squared_error(labels=ALabel, predictions=APredTime)\n",
    "Aoptimizer = tf.train.AdamOptimizer(1e-2).minimize(Aloss)"
   ]
  },
  {
   "cell_type": "code",
   "execution_count": 11,
   "metadata": {},
   "outputs": [
    {
     "data": {
      "text/plain": [
       "<tf.Tensor 'ALoss:0' shape=() dtype=string>"
      ]
     },
     "execution_count": 11,
     "metadata": {},
     "output_type": "execute_result"
    }
   ],
   "source": [
    "# 記錄看會不會收斂\n",
    "tf.summary.scalar(\"ALoss\", Aloss)"
   ]
  },
  {
   "cell_type": "markdown",
   "metadata": {},
   "source": [
    "### B Model\n",
    "---"
   ]
  },
  {
   "cell_type": "code",
   "execution_count": 12,
   "metadata": {},
   "outputs": [],
   "source": [
    "BInput = tf.placeholder(tf.float32, [None, 4], name=\"BInput\")\n",
    "BLabel = tf.placeholder(tf.float32, [None, 1], name=\"BLabel\")\n",
    "\n",
    "with tf.name_scope(\"B_Model\"):\n",
    "    BLayer1 = tf.layers.dense(\n",
    "        inputs = BInput,\n",
    "        units = 128,\n",
    "        activation = tf.nn.relu,\n",
    "        name = \"BLayer1\"\n",
    "    )\n",
    "    BLayer2 = tf.layers.dense(\n",
    "        inputs = BLayer1,\n",
    "        units = 32,\n",
    "        activation = tf.nn.relu,\n",
    "        name = \"BLayer2\"\n",
    "    )\n",
    "    BPredTime = tf.layers.dense(\n",
    "        inputs = BLayer2,\n",
    "        units = 1,\n",
    "        name = \"BPredTime\"\n",
    "    )"
   ]
  },
  {
   "cell_type": "code",
   "execution_count": 13,
   "metadata": {},
   "outputs": [],
   "source": [
    "Bloss = tf.losses.mean_squared_error(labels=BLabel, predictions=BPredTime)\n",
    "Boptimizer = tf.train.AdamOptimizer(1e-2).minimize(Bloss)"
   ]
  },
  {
   "cell_type": "code",
   "execution_count": 14,
   "metadata": {},
   "outputs": [
    {
     "data": {
      "text/plain": [
       "<tf.Tensor 'BLoss:0' shape=() dtype=string>"
      ]
     },
     "execution_count": 14,
     "metadata": {},
     "output_type": "execute_result"
    }
   ],
   "source": [
    "# 記錄看會不會收斂\n",
    "tf.summary.scalar(\"BLoss\", Bloss)"
   ]
  },
  {
   "cell_type": "markdown",
   "metadata": {},
   "source": [
    "### C Model\n",
    "---"
   ]
  },
  {
   "cell_type": "code",
   "execution_count": 15,
   "metadata": {},
   "outputs": [],
   "source": [
    "CInput = tf.placeholder(tf.float32, [None, 4], name=\"CInput\")\n",
    "CLabel = tf.placeholder(tf.float32, [None, 1], name=\"CLabel\")\n",
    "\n",
    "with tf.name_scope(\"C_Model\"):\n",
    "    CLayer1 = tf.layers.dense(\n",
    "        inputs = CInput,\n",
    "        units = 128,\n",
    "        activation = tf.nn.relu,\n",
    "        name = \"CLayer1\"\n",
    "    )\n",
    "    CLayer2 = tf.layers.dense(\n",
    "        inputs = CLayer1,\n",
    "        units = 32,\n",
    "        activation = tf.nn.relu,\n",
    "        name = \"CLayer2\"\n",
    "    )\n",
    "    CPredTime = tf.layers.dense(\n",
    "        inputs = CLayer2,\n",
    "        units = 1,\n",
    "        name = \"CPredTime\"\n",
    "    )"
   ]
  },
  {
   "cell_type": "code",
   "execution_count": 16,
   "metadata": {},
   "outputs": [],
   "source": [
    "Closs = tf.losses.mean_squared_error(labels=CLabel, predictions=CPredTime)\n",
    "Coptimizer = tf.train.AdamOptimizer(1e-2).minimize(Closs)"
   ]
  },
  {
   "cell_type": "code",
   "execution_count": 17,
   "metadata": {},
   "outputs": [
    {
     "data": {
      "text/plain": [
       "<tf.Tensor 'CLoss:0' shape=() dtype=string>"
      ]
     },
     "execution_count": 17,
     "metadata": {},
     "output_type": "execute_result"
    }
   ],
   "source": [
    "# 記錄看會不會收斂\n",
    "tf.summary.scalar(\"CLoss\", Closs)"
   ]
  },
  {
   "cell_type": "markdown",
   "metadata": {},
   "source": [
    "## 創建 Session\n",
    "---"
   ]
  },
  {
   "cell_type": "code",
   "execution_count": 18,
   "metadata": {},
   "outputs": [],
   "source": [
    "session = tf.Session()\n",
    "session.run(tf.global_variables_initializer())"
   ]
  },
  {
   "cell_type": "code",
   "execution_count": 19,
   "metadata": {},
   "outputs": [],
   "source": [
    "logFile = tf.summary.FileWriter(\"./logs\")\n",
    "# logFile.add_graph(session.graph)"
   ]
  },
  {
   "cell_type": "code",
   "execution_count": 20,
   "metadata": {},
   "outputs": [],
   "source": [
    "def trainModel(epoch):\n",
    "    for i in range(0, epoch):\n",
    "        batchAData, batchALabel = batchData(AData, ATime, 256)\n",
    "        batchBData, batchBLabel = batchData(BData, BTime, 256)\n",
    "        batchCData, batchCLabel = batchData(CData, CTime, 256)\n",
    "        \n",
    "        # 跑最佳化\n",
    "        session.run(Aoptimizer, feed_dict={\n",
    "            AInput: batchAData,\n",
    "            ALabel: batchALabel\n",
    "        })\n",
    "        session.run(Boptimizer, feed_dict={\n",
    "            BInput: batchBData,\n",
    "            BLabel: batchBLabel\n",
    "        })\n",
    "        session.run(Coptimizer, feed_dict={\n",
    "            CInput: batchCData,\n",
    "            CLabel: batchCLabel\n",
    "        })\n",
    "        \n",
    "        # 跑圖表\n",
    "        if(epoch % 100 == 0):\n",
    "            merge = tf.summary.merge_all()\n",
    "            summary = session.run(merge, feed_dict={\n",
    "                AInput: batchAData,\n",
    "                ALabel: batchALabel,\n",
    "                BInput: batchBData,\n",
    "                BLabel: batchBLabel,\n",
    "                CInput: batchCData,\n",
    "                CLabel: batchCLabel\n",
    "            })\n",
    "            logFile.add_summary(summary, i)"
   ]
  },
  {
   "cell_type": "code",
   "execution_count": 21,
   "metadata": {},
   "outputs": [
    {
     "name": "stdout",
     "output_type": "stream",
     "text": [
      "INFO:tensorflow:Restoring parameters from ./models/NN\n"
     ]
    }
   ],
   "source": [
    "ckpt = tf.train.get_checkpoint_state(\"./models/\")\n",
    "\n",
    "# 沒有找到以前的 Weight 資訊\n",
    "if(ckpt == None):\n",
    "    trainModel(10000)\n",
    "    \n",
    "    saver = tf.train.Saver()\n",
    "\n",
    "    # 如果路徑不存在，就創建路徑\n",
    "    if (not os.path.exists(\"./models/\")):\n",
    "        os.mkdir(\"./models/\")\n",
    "\n",
    "    saver.save(session, \"./models/NN\")\n",
    "else:\n",
    "    saver = tf.train.Saver()\n",
    "    saver.restore(session, ckpt.model_checkpoint_path)"
   ]
  },
  {
   "cell_type": "code",
   "execution_count": 22,
   "metadata": {},
   "outputs": [],
   "source": [
    "predResult = []\n",
    "for i in range(0, len(TestType)):\n",
    "    if(TestType[i] == \"A\"):\n",
    "        tempResult = session.run(APredTime, feed_dict={\n",
    "            AInput: [TestData[i]]\n",
    "        })\n",
    "    elif(TestType[i] == \"B\"):\n",
    "        tempResult = session.run(BPredTime, feed_dict={\n",
    "            BInput: [TestData[i]]\n",
    "        })\n",
    "    else:\n",
    "        tempResult = session.run(CPredTime, feed_dict={\n",
    "            CInput: [TestData[i]]\n",
    "        })\n",
    "    predResult.append(tempResult[0][0])"
   ]
  },
  {
   "cell_type": "markdown",
   "metadata": {},
   "source": [
    "## 寫出檔案\n",
    "---"
   ]
  },
  {
   "cell_type": "code",
   "execution_count": 23,
   "metadata": {},
   "outputs": [],
   "source": [
    "resultFile = open(\"./Data/Test Result.csv\", \"w\")\n",
    "resultFile.write(\"\\\"TRIP_ID\\\",\\\"TRAVEL_TIME\\\"\\n\")\n",
    "\n",
    "for i in range(0, len(predResult)):\n",
    "    resultFile.write(\"\\\"\" + TestNumber[i] + \"\\\",\" + format(predResult[i]) + \"\\n\")\n",
    "resultFile.close()"
   ]
  }
 ],
 "metadata": {
  "kernelspec": {
   "display_name": "Python 3",
   "language": "python",
   "name": "python3"
  },
  "language_info": {
   "codemirror_mode": {
    "name": "ipython",
    "version": 3
   },
   "file_extension": ".py",
   "mimetype": "text/x-python",
   "name": "python",
   "nbconvert_exporter": "python",
   "pygments_lexer": "ipython3",
   "version": "3.6.3"
  }
 },
 "nbformat": 4,
 "nbformat_minor": 2
}
